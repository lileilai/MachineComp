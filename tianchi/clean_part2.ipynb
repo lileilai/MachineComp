{
 "cells": [
  {
   "cell_type": "code",
   "execution_count": 2,
   "metadata": {},
   "outputs": [],
   "source": [
    "import numpy as np\n",
    "import pandas as pd\n",
    "import os\n",
    "import sys\n",
    "import tensorflow as tf\n",
    "import xgboost as xgb\n",
    "%matplotlib inline\n",
    "import matplotlib.pyplot as plt\n",
    "from sklearn.preprocessing import OneHotEncoder\n",
    "from sklearn.pipeline import Pipeline\n",
    "from sklearn.preprocessing import StandardScaler\n",
    "from sklearn.tree import DecisionTreeRegressor\n",
    "from sklearn.svm import SVR\n",
    "from sklearn.metrics import mean_squared_log_error\n",
    "from sklearn.model_selection  import train_test_split\n",
    "from sklearn.model_selection import cross_val_score\n",
    "from sklearn.metrics import mean_squared_log_error\n",
    "from sklearn.externals import joblib\n",
    "from sklearn.model_selection import GridSearchCV\n",
    "from sklearn.ensemble import RandomForestRegressor\n",
    "from sklearn.ensemble import GradientBoostingRegressor\n",
    "from xgboost.sklearn import XGBRegressor\n",
    "import LightGBM as lgb\n",
    "from sklearn.feature_selection import SelectFromModel\n",
    "from sklearn.linear_model import Lasso"
   ]
  },
  {
   "cell_type": "code",
   "execution_count": 234,
   "metadata": {},
   "outputs": [
    {
     "name": "stderr",
     "output_type": "stream",
     "text": [
      "/Users/lmlyz/Library/Python/3.6/lib/python/site-packages/IPython/core/interactiveshell.py:2728: DtypeWarning: Columns (89,92,93,94,95,96,100,101,102,103,105,122,124,125,129,130,131,132,133,134,135,136,137,144,145,149,150,152,153,154,155,156,157,158,159,160,161,162,163,164,165,166,167,168,169,170,171,172,173,174,175,178,182,183,193,198,199,210,214,216,217,221,222,223,224,225,226,227,228,229,230,231,232,233,234,235,236,237,238,239,240,241,242) have mixed types. Specify dtype option on import or set low_memory=False.\n",
      "  interactivity=interactivity, compiler=compiler, result=result)\n"
     ]
    }
   ],
   "source": [
    "### 读取train_set的数据，包含 p1,p2\n",
    "train_set = pd.read_csv('./data/train_set.csv',encoding='gbk')"
   ]
  },
  {
   "cell_type": "code",
   "execution_count": 235,
   "metadata": {},
   "outputs": [],
   "source": [
    "###读取 part2的数据\n",
    "df_part2 = pd.read_csv('./data/part2.csv',sep='$')"
   ]
  },
  {
   "cell_type": "code",
   "execution_count": 236,
   "metadata": {},
   "outputs": [
    {
     "name": "stderr",
     "output_type": "stream",
     "text": [
      "/Users/lmlyz/Library/Python/3.6/lib/python/site-packages/IPython/core/interactiveshell.py:2728: DtypeWarning: Columns (92,93,94,95,96,101,103,104,105,122,124,125,129,130,131,133,134,135,136,137,144,145,150,152,162,182,193,214,216,217,218,221,222,223,224,225,226,227,228,229,230,231,232,233,234,235,236,237,238,239,240,241,242) have mixed types. Specify dtype option on import or set low_memory=False.\n",
      "  interactivity=interactivity, compiler=compiler, result=result)\n"
     ]
    }
   ],
   "source": [
    "## 读取test_set的数据 特征和train_set 对应 包含 p1,p2的数据\n",
    "test_set = pd.read_csv('./data/test_set.csv',encoding='gbk')"
   ]
  },
  {
   "cell_type": "code",
   "execution_count": 244,
   "metadata": {},
   "outputs": [],
   "source": [
    "part2_col = list(set(df_part2['table_id']))"
   ]
  },
  {
   "cell_type": "code",
   "execution_count": 39,
   "metadata": {},
   "outputs": [
    {
     "name": "stdout",
     "output_type": "stream",
     "text": [
      "(38199, 245) (9538, 245)\n"
     ]
    }
   ],
   "source": [
    "print(train_set.shape,test_set.shape)"
   ]
  },
  {
   "cell_type": "code",
   "execution_count": 238,
   "metadata": {},
   "outputs": [],
   "source": [
    "###设置每张表的 index 为 vid\n",
    "def resetIndex(df):\n",
    "    vid = df['vid']\n",
    "    df = df.drop('vid',axis=1)\n",
    "    df = df.set_index(vid)\n",
    "    return df"
   ]
  },
  {
   "cell_type": "code",
   "execution_count": 239,
   "metadata": {},
   "outputs": [],
   "source": [
    "col = ['收缩压','舒张压','血清甘油三酯','血清高密度脂蛋白','血清低密度脂蛋白']"
   ]
  },
  {
   "cell_type": "code",
   "execution_count": 241,
   "metadata": {},
   "outputs": [],
   "source": [
    "train_set = resetIndex(train_set)\n",
    "test_set = resetIndex(test_set)"
   ]
  },
  {
   "cell_type": "code",
   "execution_count": 245,
   "metadata": {},
   "outputs": [],
   "source": [
    "### 过滤掉part1的数据 保留需要预测的数据\n",
    "def filter_col(df,col,part2_col):\n",
    "    \n",
    "    for feature in df.columns:\n",
    "        if feature not in part2_col:\n",
    "            if feature not in col:\n",
    "                df = df.drop(feature,axis=1)\n",
    "        \n",
    "    return df\n",
    "    "
   ]
  },
  {
   "cell_type": "code",
   "execution_count": 246,
   "metadata": {},
   "outputs": [],
   "source": [
    "#过滤掉p1的数据，只保留p2的数据\n",
    "train_set = filter_col(train_set,col,part2_col)"
   ]
  },
  {
   "cell_type": "code",
   "execution_count": 247,
   "metadata": {},
   "outputs": [],
   "source": [
    "test_set = filter_col(test_set,col,part2_col)"
   ]
  },
  {
   "cell_type": "code",
   "execution_count": 287,
   "metadata": {},
   "outputs": [],
   "source": [
    "### 将train_set 和 test_set 合并成一张表，包含了 [收缩压，舒张压,....]等5列\n",
    "df_all = train_set\n",
    "df_all = df_all.append(test_set)"
   ]
  },
  {
   "cell_type": "code",
   "execution_count": 256,
   "metadata": {},
   "outputs": [],
   "source": [
    "df_all.to_csv('./temp/df_all.csv',encoding='gbk')"
   ]
  },
  {
   "cell_type": "code",
   "execution_count": 266,
   "metadata": {},
   "outputs": [],
   "source": [
    "## 删掉test_set中没有在train_set中出现的特征\n",
    "def drop_col(test_set,train_set):\n",
    "    for col in test_set.columns:\n",
    "        if col not in train_set.columns:\n",
    "            test_set = test_set.drop(col,axis=1)\n",
    "    print(test_set.shape)\n",
    "    return test_set"
   ]
  },
  {
   "cell_type": "code",
   "execution_count": 289,
   "metadata": {},
   "outputs": [],
   "source": [
    "## 某个特征的缺失值大于75的话就删除这个特征\n",
    "def drop_col_thresh(df,thresh = 0.25):\n",
    "    \n",
    "    num_rows = len(df.index)\n",
    "    cols = []\n",
    "    for item in df.columns:\n",
    "        if float(df[item].count()) / num_rows < thresh:\n",
    "            cols.append(item)\n",
    "            \n",
    "    print(len(cols))\n",
    "    \n",
    "    df = df.drop(cols,axis=1)\n",
    "    #pass\n",
    "    return df"
   ]
  },
  {
   "cell_type": "code",
   "execution_count": 443,
   "metadata": {},
   "outputs": [],
   "source": [
    "import re\n",
    "##处理阴性 阳性 ++ --这种类型的列数据  ['100010','3190','3191','3192','3195','3196','3197','3430']\n",
    "def zz_col_1(item):\n",
    "    p = r\"[0-9A-Za-z/()\\s\\.>=]*\"\n",
    "    \n",
    "\n",
    "    item = str(item)\n",
    "    tmp=re.sub(p,\"\",item)\n",
    "    if tmp == \"\":\n",
    "        return item\n",
    "    tmp = tmp.replace(\"阴性\",\"-\").replace(\"阳性\",\"+\").replace(\"未做\",\"\").replace(\"未见\",\"\").replace(\"１＋\",\"+\")\\\n",
    "    .replace(\"２＋\",\"+\").replace(\"１＋\",\"+\").replace(\"血液\",\"\").replace(\"+-\",\"+\").replace(\"++\",\"+\")\\\n",
    "    .replace(\"+++\",\"+\").replace(\"--\",\"-\").replace(\"透明\",\"\").replace(\"正常\",\"-\")\n",
    "  \n",
    "    \n",
    "    return tmp\n",
    "##处理带单位   :    /hp   /Hp  /Lp  个  阳性(+)  偶见  未检出     ['3429','300005','3430']\n",
    "\n",
    "\n",
    "def zz_col_2(item):\n",
    "    p=r\"[^0-9\\-.]\"\n",
    "    item = str(item)\n",
    "    temp = re.sub(p,\"\",item)\n",
    "    \n",
    "    if temp == \"\":\n",
    "        return item\n",
    "    \n",
    " \n",
    "    if temp.find(\"-\")!=0:\n",
    "        li = temp.split(\"-\")\n",
    "        try:\n",
    "            temp = str((float(li[0])+float(li[1]))/2)\n",
    "        except:\n",
    "#                 print(li)\n",
    "            if len(li)>2:\n",
    "                temp = str((float(li[0])+float(li[2]))/2)\n",
    "            else:\n",
    "                temp=li[0]\n",
    "    return temp\n",
    "##   ['2228','2229']   ## （阴性 0.988）\n",
    "def zz_col_3(item):\n",
    "    p = r\"[a-z\\s()（]\" #过滤 a-z\\s()（\n",
    "    p1 = r\"[0-9\\.]\" #过滤 数字型，用于保留原来的数值型数据\n",
    "    \n",
    "    tmp = re.sub(p,\"\",str(item))\n",
    "    tmp1 = re.sub(p1,\"\",tmp)\n",
    "    if(tmp1 == \"\"):\n",
    "        return tmp\n",
    "    tmp = tmp.replace(\"++\",\"+\").replace(\"+-\",\"+\").replace(\"阳\",\"+\").replace(\"阴\",\"-\").replace(\"性\",\"\").replace(\"极\",\"\").replace(\"重\",\"\")\\\n",
    "                .replace(\"度\",\"\").replace(\"弱\",\"\")\n",
    "       \n",
    "    return tmp\n",
    "\n"
   ]
  },
  {
   "cell_type": "code",
   "execution_count": 389,
   "metadata": {},
   "outputs": [],
   "source": [
    "def func4(item):   ##过滤掉 0.9770.977 返回0.977\n",
    "    item = str(item)\n",
    "    if len(item.split('.'))>2:\n",
    "        i =item.rindex('.')\n",
    "        item = item[0:i-1]\n",
    "    return item\n",
    "    "
   ]
  },
  {
   "cell_type": "code",
   "execution_count": 444,
   "metadata": {},
   "outputs": [],
   "source": [
    "df_all_tmp1 = df_all"
   ]
  },
  {
   "cell_type": "code",
   "execution_count": 445,
   "metadata": {},
   "outputs": [],
   "source": [
    "df_all_tmp1 = df_all_tmp1.applymap(zz_col_1)\n",
    "df_all_tmp1 = df_all_tmp1.applymap(zz_col_2)\n",
    "df_all_tmp1 = df_all_tmp1.applymap(zz_col_3)\n",
    "df_all_tmp1 = df_all_tmp1.applymap(func4)"
   ]
  },
  {
   "cell_type": "code",
   "execution_count": 448,
   "metadata": {},
   "outputs": [],
   "source": [
    "##这里所有的数据只包含 p2中的数值型 和 + -类型，没有做缺失值的填充\n",
    "df_all_tmp1.to_csv('./temp/df_all_tmp3.csv',encoding='gbk')\n",
    "\n",
    "#以上完成了p2的数据清洗。。。"
   ]
  },
  {
   "cell_type": "code",
   "execution_count": null,
   "metadata": {},
   "outputs": [],
   "source": [
    "#########################################################"
   ]
  },
  {
   "cell_type": "code",
   "execution_count": 294,
   "metadata": {},
   "outputs": [],
   "source": [
    "def clean_label(x):\n",
    "    x = str(x)\n",
    "    \n",
    "  \n",
    "    if len(x.split(sep='.'))>2:#2.2.8\n",
    "        i = x.rindex('.')\n",
    "        x = x[0:i]+x[i+1:]\n",
    "    \n",
    "    if '。' in x:\n",
    "        x = x.replace('。','.')\n",
    "    if ', ' in x:\n",
    "        x = x.replace(', ','.')\n",
    "    if x == ' ' or x == '()':\n",
    "        x = np.nan\n",
    "    if '标本已退' in str(x) or '未做' in str(x) or '未查' in str(x) or '弃查' in str(x):\n",
    "        x = np.nan\n",
    "    if str(x).isdigit()==False and len(str(x))>4:\n",
    "        x = x[0:4]\n",
    "    if 'A' in str(x):\n",
    "        x = np.nan\n",
    "        \n",
    "    if 'CLT' in str(x):\n",
    "        x = np.nan\n",
    "        \n",
    "      \n",
    "    return x\n",
    "    "
   ]
  },
  {
   "cell_type": "code",
   "execution_count": 296,
   "metadata": {},
   "outputs": [],
   "source": [
    "import re\n",
    "def func1(x):\n",
    "    #regexp = re.compile(r'[^\\x00-\\x7f]') ##查找中文\n",
    "    x = str(x)\n",
    "    #if(regexp.search(x)):\n",
    "        #x = np.nan  ##如果有中文设置成 np.nan\n",
    "    if '----' in str(x):\n",
    "        x = np.nan\n",
    "    if '....' == str(x):\n",
    "        x = np.nan\n",
    "    if str(x) == '':\n",
    "        x = np.nan\n",
    "    if str(x) == '.':\n",
    "        x = np.nan\n",
    "    if '.()' in str(x):\n",
    "        x = np.nan\n",
    "    return x"
   ]
  },
  {
   "cell_type": "code",
   "execution_count": 299,
   "metadata": {},
   "outputs": [],
   "source": [
    "def func2(x):\n",
    "    x = str(x)\n",
    "    if '>' in x:#> 11.00\n",
    "        i = x.index('>')\n",
    "        x = x[i+1:]\n",
    "    if '<' in x:\n",
    "        i = x.index('<')\n",
    "        x = x[i+1:]\n",
    "    if '=' in x:\n",
    "        i = x.index('=') # =1.\n",
    "        x = x[i+1:]\n",
    "    if ' ' in x:\n",
    "        x = x.replace(' ','.') # 50 5\n",
    "    if '-' in x or '+' in x: # + or - 出现在特征中直接置为 np.nan\n",
    "        x = np.nan\n",
    "    if '(' in str(x):\n",
    "        i = x.index('(') # 125(\n",
    "        x = x[:i]\n",
    "    return x"
   ]
  },
  {
   "cell_type": "code",
   "execution_count": 309,
   "metadata": {},
   "outputs": [],
   "source": [
    "# df_all_tmp1 = df_all_tmp1.applymap(lambda x:func1(x))\n",
    "# df_all_tmp1 = df_all_tmp1.applymap(lambda x:func2(x))"
   ]
  },
  {
   "cell_type": "code",
   "execution_count": 401,
   "metadata": {},
   "outputs": [],
   "source": [
    "#df_all_tmp1.head()\n",
    "#df_all_tmp1 = pd.read_csv('./temp/df_all_tmp1.csv',encoding='gbk')"
   ]
  },
  {
   "cell_type": "code",
   "execution_count": 269,
   "metadata": {},
   "outputs": [],
   "source": [
    "#test_set1_tmp1 = test_set.applymap(clean_label)"
   ]
  },
  {
   "cell_type": "code",
   "execution_count": 313,
   "metadata": {},
   "outputs": [
    {
     "name": "stderr",
     "output_type": "stream",
     "text": [
      "/Users/lmlyz/Library/Python/3.6/lib/python/site-packages/IPython/core/interactiveshell.py:2728: DtypeWarning: Columns (13,26,27,32,36,48,63,65,67,72,73,84) have mixed types. Specify dtype option on import or set low_memory=False.\n",
      "  interactivity=interactivity, compiler=compiler, result=result)\n"
     ]
    }
   ],
   "source": [
    "#train_set = pd.read_csv('./temp/train_set_p2_cleaned.csv',encoding='gbk')"
   ]
  },
  {
   "cell_type": "code",
   "execution_count": 31,
   "metadata": {},
   "outputs": [],
   "source": [
    "def drop_row(df,thresh = 0.35):\n",
    "    num_rows = len(df.index)\n",
    "    num_cols = len(df.columns)\n",
    "    rows = []\n",
    "    for i in range(num_rows):\n",
    "        if float(df.iloc[i].count()) / num_cols < thresh:\n",
    "            rows.append(df.index[i])\n",
    "            \n",
    "    print(len(rows))\n",
    "    df = df.drop(rows,axis=0)\n",
    "    \n",
    "    return df"
   ]
  },
  {
   "cell_type": "code",
   "execution_count": 184,
   "metadata": {},
   "outputs": [],
   "source": [
    "def drop_with_mean(df):\n",
    "    rows = []\n",
    "    col_mean = {}\n",
    "    for item in df.columns:\n",
    "        col_mean[item] = df[item].mean()\n",
    "    \n",
    "    for i in range(len(df.index)):\n",
    "        for k,v in df.iloc[i].items():\n",
    "            if np.isnan(v) == False:\n",
    "                if v > 3.0*col_mean[k]:\n",
    "                    rows.append(df.index[i])\n",
    "    print(len(rows))\n",
    "    \n",
    "    df = df.drop(rows,axis=0)\n",
    "    \n",
    "    return df"
   ]
  },
  {
   "cell_type": "code",
   "execution_count": 575,
   "metadata": {},
   "outputs": [],
   "source": [
    "def norm(df,col,flag = True):\n",
    "    scalar = StandardScaler()\n",
    "    if flag:\n",
    "        y = df[col]\n",
    "        t = df.drop(col,axis=1)\n",
    "        scalar.fit(t)\n",
    "        df2 = scalar.transform(t)\n",
    "        X = pd.DataFrame(data=df2,index=df.index,columns = t.columns)\n",
    "        X[col]= y\n",
    "    else:\n",
    "        t = df\n",
    "        scalar.fit(t)\n",
    "        df2 = scalar.transform(t)\n",
    "        X = pd.DataFrame(data=df2,index=df.index,columns = t.columns)\n",
    "    return X"
   ]
  }
 ],
 "metadata": {
  "kernelspec": {
   "display_name": "Python 3",
   "language": "python",
   "name": "python3"
  },
  "language_info": {
   "codemirror_mode": {
    "name": "ipython",
    "version": 3
   },
   "file_extension": ".py",
   "mimetype": "text/x-python",
   "name": "python",
   "nbconvert_exporter": "python",
   "pygments_lexer": "ipython3",
   "version": "3.6.4"
  }
 },
 "nbformat": 4,
 "nbformat_minor": 2
}
